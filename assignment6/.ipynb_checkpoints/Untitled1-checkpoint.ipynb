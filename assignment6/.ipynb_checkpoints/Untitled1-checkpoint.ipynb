{
 "cells": [
  {
   "cell_type": "code",
   "execution_count": 3,
   "metadata": {
    "collapsed": false
   },
   "outputs": [],
   "source": [
    "from mpl_toolkits.basemap import Basemap\n",
    "from matplotlib import colors\n",
    "import matplotlib.pyplot as plt\n",
    "import numpy as np\n",
    "import pandas as pd\n",
    "from collections import OrderedDict\n",
    "from datetime import time\n",
    "import seaborn as sns\n",
    "import warnings\n",
    "\n",
    "warnings.filterwarnings('ignore')\n",
    "\n",
    "from numpy import sum as suma\n"
   ]
  },
  {
   "cell_type": "markdown",
   "metadata": {},
   "source": [
    "After importing the needed packages lets proceed to the analysis. We are going to explore how crime occurences develop\n",
    "throughout the day in half an hour intervals"
   ]
  },
  {
   "cell_type": "code",
   "execution_count": 6,
   "metadata": {
    "collapsed": false
   },
   "outputs": [],
   "source": [
    "colorMapping = {}\n",
    "dayMapping = {}\n",
    "sf = pd.read_csv('sanfrancisco_incidents_summer_2014.csv', parse_dates={\"Datetime\": [5]})\n",
    "sf = sf.set_index(['Datetime'])\n",
    "sf1 = sf.where(sf['PdDistrict']=='SOUTHERN')\n",
    "#Data is kinda ready after that\n",
    "#sf1 = sf1.where(sf['Category']=='LARCENY/THEFT')\n",
    "sf1 = sf1.dropna()\n",
    "\n",
    "#print(sf1.head(20))\n",
    "#print('-----------------------------------------------------')\n",
    "#print(sf1.head(5))\n",
    "#sf1 = sf1.groupby(['DayOfWeek'])\n",
    "grouped = sf1.groupby(pd.TimeGrouper(freq='60Min')).count()\n",
    "#print(grouped.head(27))\n",
    "%matplotib inline\n",
    "grouped['index1'] = grouped.index.hour\n",
    "pdnum = grouped.as_matrix(['index1','Resolution'])\n",
    "time = pdnum[:,0]\n",
    "values = pdnum[:,1]\n",
    "ax = sns.tsplot(data=values, time=time)\n",
    "#plt.title('Crime incidents in Southern district throughout the day')\n",
    "#plt.ylabel('Number of incidents')\n",
    "#plt.xlabel('Hour of day')\n"
   ]
  },
  {
   "cell_type": "code",
   "execution_count": null,
   "metadata": {
    "collapsed": true
   },
   "outputs": [],
   "source": []
  }
 ],
 "metadata": {
  "kernelspec": {
   "display_name": "Python 2",
   "language": "python",
   "name": "python2"
  },
  "language_info": {
   "codemirror_mode": {
    "name": "ipython",
    "version": 2
   },
   "file_extension": ".py",
   "mimetype": "text/x-python",
   "name": "python",
   "nbconvert_exporter": "python",
   "pygments_lexer": "ipython2",
   "version": "2.7.6"
  }
 },
 "nbformat": 4,
 "nbformat_minor": 0
}
